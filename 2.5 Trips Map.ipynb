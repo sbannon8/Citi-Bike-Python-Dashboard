{
 "cells": [
  {
   "cell_type": "markdown",
   "id": "c15e57a3-d75c-43e6-9944-fb4081de63f8",
   "metadata": {},
   "source": [
    "## Import Libraries"
   ]
  },
  {
   "cell_type": "code",
   "execution_count": 16,
   "id": "54eb8acb-2570-48de-8564-5e3499ab0ddb",
   "metadata": {},
   "outputs": [],
   "source": [
    "import pandas as pd\n",
    "import os\n",
    "from keplergl import KeplerGl\n",
    "from pyproj import CRS\n",
    "import numpy as np\n",
    "from matplotlib import pyplot as plt"
   ]
  },
  {
   "cell_type": "markdown",
   "id": "647c90ab-7ac5-4e62-a737-d1ec1f8eb46d",
   "metadata": {},
   "source": [
    "## Import Data"
   ]
  },
  {
   "cell_type": "markdown",
   "id": "23762c35-13c1-402e-8200-55b172c189aa",
   "metadata": {},
   "source": [
    "Cols needed:\n",
    "- ride_id\n",
    "- start_station_name\n",
    "- end_station_name\n",
    "- start_lat\n",
    "- start_lng\n",
    "- end_lat\n",
    "- end_lng"
   ]
  },
  {
   "cell_type": "code",
   "execution_count": 17,
   "id": "21423ec2-0f2c-42fe-9e60-9585305cb6b3",
   "metadata": {},
   "outputs": [],
   "source": [
    "# list cols to use\n",
    "use_cols = ['ride_id', 'start_station_name', 'end_station_name', 'start_lat', 'start_lng', 'end_lat', 'end_lng']\n",
    "\n",
    "# import data\n",
    "df = pd.read_csv('ny_data.csv',\n",
    "usecols=use_cols, # import only specified columns\n",
    "low_memory=False)"
   ]
  },
  {
   "cell_type": "code",
   "execution_count": 18,
   "id": "b7a2b77d-0747-46b7-8791-bb5e5c01bb81",
   "metadata": {},
   "outputs": [
    {
     "data": {
      "text/html": [
       "<div>\n",
       "<style scoped>\n",
       "    .dataframe tbody tr th:only-of-type {\n",
       "        vertical-align: middle;\n",
       "    }\n",
       "\n",
       "    .dataframe tbody tr th {\n",
       "        vertical-align: top;\n",
       "    }\n",
       "\n",
       "    .dataframe thead th {\n",
       "        text-align: right;\n",
       "    }\n",
       "</style>\n",
       "<table border=\"1\" class=\"dataframe\">\n",
       "  <thead>\n",
       "    <tr style=\"text-align: right;\">\n",
       "      <th></th>\n",
       "      <th>ride_id</th>\n",
       "      <th>start_station_name</th>\n",
       "      <th>end_station_name</th>\n",
       "      <th>start_lat</th>\n",
       "      <th>start_lng</th>\n",
       "      <th>end_lat</th>\n",
       "      <th>end_lng</th>\n",
       "    </tr>\n",
       "  </thead>\n",
       "  <tbody>\n",
       "    <tr>\n",
       "      <th>0</th>\n",
       "      <td>BFD29218AB271154</td>\n",
       "      <td>West End Ave &amp; W 107 St</td>\n",
       "      <td>Mt Morris Park W &amp; W 120 St</td>\n",
       "      <td>40.802117</td>\n",
       "      <td>-73.968181</td>\n",
       "      <td>40.804038</td>\n",
       "      <td>-73.945925</td>\n",
       "    </tr>\n",
       "    <tr>\n",
       "      <th>1</th>\n",
       "      <td>7C953F2FD7BE1302</td>\n",
       "      <td>4 Ave &amp; 3 St</td>\n",
       "      <td>Boerum Pl\\t&amp; Pacific St</td>\n",
       "      <td>40.673746</td>\n",
       "      <td>-73.985649</td>\n",
       "      <td>40.688489</td>\n",
       "      <td>-73.991160</td>\n",
       "    </tr>\n",
       "    <tr>\n",
       "      <th>2</th>\n",
       "      <td>95893ABD40CED4B8</td>\n",
       "      <td>1 Ave &amp; E 62 St</td>\n",
       "      <td>5 Ave &amp; E 29 St</td>\n",
       "      <td>40.761227</td>\n",
       "      <td>-73.960940</td>\n",
       "      <td>40.745168</td>\n",
       "      <td>-73.986831</td>\n",
       "    </tr>\n",
       "  </tbody>\n",
       "</table>\n",
       "</div>"
      ],
      "text/plain": [
       "            ride_id       start_station_name             end_station_name  \\\n",
       "0  BFD29218AB271154  West End Ave & W 107 St  Mt Morris Park W & W 120 St   \n",
       "1  7C953F2FD7BE1302             4 Ave & 3 St      Boerum Pl\\t& Pacific St   \n",
       "2  95893ABD40CED4B8          1 Ave & E 62 St              5 Ave & E 29 St   \n",
       "\n",
       "   start_lat  start_lng    end_lat    end_lng  \n",
       "0  40.802117 -73.968181  40.804038 -73.945925  \n",
       "1  40.673746 -73.985649  40.688489 -73.991160  \n",
       "2  40.761227 -73.960940  40.745168 -73.986831  "
      ]
     },
     "execution_count": 18,
     "metadata": {},
     "output_type": "execute_result"
    }
   ],
   "source": [
    "df.head(3)"
   ]
  },
  {
   "cell_type": "markdown",
   "id": "b9f37e75-a6de-42e5-88a3-3f4dca84ebfd",
   "metadata": {},
   "source": [
    "## Group Trips by Routes"
   ]
  },
  {
   "cell_type": "code",
   "execution_count": 19,
   "id": "0025f8ca-e595-4734-89c3-c038aaa2c60b",
   "metadata": {},
   "outputs": [],
   "source": [
    "# group by start station to end station and count the occururences\n",
    "df_routes = df.groupby(['start_station_name', 'end_station_name'], dropna=False).size().reset_index(name='count')"
   ]
  },
  {
   "cell_type": "code",
   "execution_count": 20,
   "id": "4bd33ec5-50b9-48d1-8db5-2dd16d80e6c2",
   "metadata": {},
   "outputs": [
    {
     "data": {
      "text/html": [
       "<div>\n",
       "<style scoped>\n",
       "    .dataframe tbody tr th:only-of-type {\n",
       "        vertical-align: middle;\n",
       "    }\n",
       "\n",
       "    .dataframe tbody tr th {\n",
       "        vertical-align: top;\n",
       "    }\n",
       "\n",
       "    .dataframe thead th {\n",
       "        text-align: right;\n",
       "    }\n",
       "</style>\n",
       "<table border=\"1\" class=\"dataframe\">\n",
       "  <thead>\n",
       "    <tr style=\"text-align: right;\">\n",
       "      <th></th>\n",
       "      <th>start_station_name</th>\n",
       "      <th>end_station_name</th>\n",
       "      <th>count</th>\n",
       "    </tr>\n",
       "  </thead>\n",
       "  <tbody>\n",
       "    <tr>\n",
       "      <th>0</th>\n",
       "      <td>1 Ave &amp; E 110 St</td>\n",
       "      <td>1 Ave &amp; E 110 St</td>\n",
       "      <td>791</td>\n",
       "    </tr>\n",
       "    <tr>\n",
       "      <th>1</th>\n",
       "      <td>1 Ave &amp; E 110 St</td>\n",
       "      <td>1 Ave &amp; E 18 St</td>\n",
       "      <td>2</td>\n",
       "    </tr>\n",
       "    <tr>\n",
       "      <th>2</th>\n",
       "      <td>1 Ave &amp; E 110 St</td>\n",
       "      <td>1 Ave &amp; E 30 St</td>\n",
       "      <td>4</td>\n",
       "    </tr>\n",
       "    <tr>\n",
       "      <th>3</th>\n",
       "      <td>1 Ave &amp; E 110 St</td>\n",
       "      <td>1 Ave &amp; E 39 St</td>\n",
       "      <td>1</td>\n",
       "    </tr>\n",
       "    <tr>\n",
       "      <th>4</th>\n",
       "      <td>1 Ave &amp; E 110 St</td>\n",
       "      <td>1 Ave &amp; E 44 St</td>\n",
       "      <td>12</td>\n",
       "    </tr>\n",
       "  </tbody>\n",
       "</table>\n",
       "</div>"
      ],
      "text/plain": [
       "  start_station_name  end_station_name  count\n",
       "0   1 Ave & E 110 St  1 Ave & E 110 St    791\n",
       "1   1 Ave & E 110 St   1 Ave & E 18 St      2\n",
       "2   1 Ave & E 110 St   1 Ave & E 30 St      4\n",
       "3   1 Ave & E 110 St   1 Ave & E 39 St      1\n",
       "4   1 Ave & E 110 St   1 Ave & E 44 St     12"
      ]
     },
     "execution_count": 20,
     "metadata": {},
     "output_type": "execute_result"
    }
   ],
   "source": [
    "df_routes.head()"
   ]
  },
  {
   "cell_type": "code",
   "execution_count": 21,
   "id": "589f1fb0-191f-4414-8dcf-07880c7b7604",
   "metadata": {},
   "outputs": [
    {
     "name": "stdout",
     "output_type": "stream",
     "text": [
      "29838806\n",
      "(29838806, 7)\n"
     ]
    }
   ],
   "source": [
    "# check to ensure count match - i.e. the grouby worked correctly\n",
    "print(df_routes['count'].sum())\n",
    "print(df.shape)"
   ]
  },
  {
   "cell_type": "code",
   "execution_count": 22,
   "id": "97001f6f-10fe-4c96-bf29-4459f9f77f30",
   "metadata": {},
   "outputs": [],
   "source": [
    "# rename count col to 'trips'\n",
    "df_routes.rename(columns = {'count': 'trips'}, inplace = True)"
   ]
  },
  {
   "cell_type": "markdown",
   "id": "aef68021-2638-4b24-9703-b6184a1c4296",
   "metadata": {},
   "source": [
    "## Merge Trip Count & Coordinates Dfs"
   ]
  },
  {
   "cell_type": "markdown",
   "id": "bbd10a44-f1bb-4028-9fee-0f7aab57540f",
   "metadata": {},
   "source": [
    "#### 1. Prep coord df"
   ]
  },
  {
   "cell_type": "markdown",
   "id": "37c70304-f563-4076-b1f4-76a70433e29a",
   "metadata": {},
   "source": [
    "**Create df with only needed cols**"
   ]
  },
  {
   "cell_type": "code",
   "execution_count": 23,
   "id": "d8feaf70-b4eb-4493-9c3c-611563c29e89",
   "metadata": {},
   "outputs": [],
   "source": [
    "# create df with station names & coord\n",
    "df_stations = df[['start_station_name', 'end_station_name', 'start_lat', 'start_lng', 'end_lat', 'end_lng']].reset_index(drop=True)"
   ]
  },
  {
   "cell_type": "code",
   "execution_count": 24,
   "id": "1c104592-ee20-4243-a15a-be9493775604",
   "metadata": {},
   "outputs": [
    {
     "data": {
      "text/html": [
       "<div>\n",
       "<style scoped>\n",
       "    .dataframe tbody tr th:only-of-type {\n",
       "        vertical-align: middle;\n",
       "    }\n",
       "\n",
       "    .dataframe tbody tr th {\n",
       "        vertical-align: top;\n",
       "    }\n",
       "\n",
       "    .dataframe thead th {\n",
       "        text-align: right;\n",
       "    }\n",
       "</style>\n",
       "<table border=\"1\" class=\"dataframe\">\n",
       "  <thead>\n",
       "    <tr style=\"text-align: right;\">\n",
       "      <th></th>\n",
       "      <th>start_station_name</th>\n",
       "      <th>end_station_name</th>\n",
       "      <th>start_lat</th>\n",
       "      <th>start_lng</th>\n",
       "      <th>end_lat</th>\n",
       "      <th>end_lng</th>\n",
       "    </tr>\n",
       "  </thead>\n",
       "  <tbody>\n",
       "    <tr>\n",
       "      <th>0</th>\n",
       "      <td>West End Ave &amp; W 107 St</td>\n",
       "      <td>Mt Morris Park W &amp; W 120 St</td>\n",
       "      <td>40.802117</td>\n",
       "      <td>-73.968181</td>\n",
       "      <td>40.804038</td>\n",
       "      <td>-73.945925</td>\n",
       "    </tr>\n",
       "    <tr>\n",
       "      <th>1</th>\n",
       "      <td>4 Ave &amp; 3 St</td>\n",
       "      <td>Boerum Pl\\t&amp; Pacific St</td>\n",
       "      <td>40.673746</td>\n",
       "      <td>-73.985649</td>\n",
       "      <td>40.688489</td>\n",
       "      <td>-73.991160</td>\n",
       "    </tr>\n",
       "    <tr>\n",
       "      <th>2</th>\n",
       "      <td>1 Ave &amp; E 62 St</td>\n",
       "      <td>5 Ave &amp; E 29 St</td>\n",
       "      <td>40.761227</td>\n",
       "      <td>-73.960940</td>\n",
       "      <td>40.745168</td>\n",
       "      <td>-73.986831</td>\n",
       "    </tr>\n",
       "    <tr>\n",
       "      <th>3</th>\n",
       "      <td>2 Ave &amp; E 96 St</td>\n",
       "      <td>5 Ave &amp; E 29 St</td>\n",
       "      <td>40.783964</td>\n",
       "      <td>-73.947167</td>\n",
       "      <td>40.745168</td>\n",
       "      <td>-73.986831</td>\n",
       "    </tr>\n",
       "    <tr>\n",
       "      <th>4</th>\n",
       "      <td>6 Ave &amp; W 34 St</td>\n",
       "      <td>5 Ave &amp; E 29 St</td>\n",
       "      <td>40.749640</td>\n",
       "      <td>-73.988050</td>\n",
       "      <td>40.745168</td>\n",
       "      <td>-73.986831</td>\n",
       "    </tr>\n",
       "  </tbody>\n",
       "</table>\n",
       "</div>"
      ],
      "text/plain": [
       "        start_station_name             end_station_name  start_lat  start_lng  \\\n",
       "0  West End Ave & W 107 St  Mt Morris Park W & W 120 St  40.802117 -73.968181   \n",
       "1             4 Ave & 3 St      Boerum Pl\\t& Pacific St  40.673746 -73.985649   \n",
       "2          1 Ave & E 62 St              5 Ave & E 29 St  40.761227 -73.960940   \n",
       "3          2 Ave & E 96 St              5 Ave & E 29 St  40.783964 -73.947167   \n",
       "4          6 Ave & W 34 St              5 Ave & E 29 St  40.749640 -73.988050   \n",
       "\n",
       "     end_lat    end_lng  \n",
       "0  40.804038 -73.945925  \n",
       "1  40.688489 -73.991160  \n",
       "2  40.745168 -73.986831  \n",
       "3  40.745168 -73.986831  \n",
       "4  40.745168 -73.986831  "
      ]
     },
     "execution_count": 24,
     "metadata": {},
     "output_type": "execute_result"
    }
   ],
   "source": [
    "df_stations.head()"
   ]
  },
  {
   "cell_type": "markdown",
   "id": "002f44db-09dc-439d-a41d-687eabd4a0ce",
   "metadata": {},
   "source": [
    "**Split df into 2 - 1 for start, 1 for end**"
   ]
  },
  {
   "cell_type": "code",
   "execution_count": 25,
   "id": "2602a0df-4d15-4fb4-a02f-d66706bacd0b",
   "metadata": {},
   "outputs": [],
   "source": [
    "## split start and end station info into separate dfs\n",
    "\n",
    "# create df for just start station info\n",
    "start_coords = df_stations[['start_station_name', 'start_lat', 'start_lng']].drop_duplicates(subset='start_station_name')\n",
    "\n",
    "# create df for just end station info\n",
    "end_coords = df_stations[['end_station_name', 'end_lat', 'end_lng']].drop_duplicates(subset='end_station_name')"
   ]
  },
  {
   "cell_type": "code",
   "execution_count": 26,
   "id": "e4d1f146-420a-4389-a4f8-0a362437dcbb",
   "metadata": {},
   "outputs": [
    {
     "data": {
      "text/html": [
       "<div>\n",
       "<style scoped>\n",
       "    .dataframe tbody tr th:only-of-type {\n",
       "        vertical-align: middle;\n",
       "    }\n",
       "\n",
       "    .dataframe tbody tr th {\n",
       "        vertical-align: top;\n",
       "    }\n",
       "\n",
       "    .dataframe thead th {\n",
       "        text-align: right;\n",
       "    }\n",
       "</style>\n",
       "<table border=\"1\" class=\"dataframe\">\n",
       "  <thead>\n",
       "    <tr style=\"text-align: right;\">\n",
       "      <th></th>\n",
       "      <th>start_station_name</th>\n",
       "      <th>start_lat</th>\n",
       "      <th>start_lng</th>\n",
       "    </tr>\n",
       "  </thead>\n",
       "  <tbody>\n",
       "    <tr>\n",
       "      <th>0</th>\n",
       "      <td>West End Ave &amp; W 107 St</td>\n",
       "      <td>40.802117</td>\n",
       "      <td>-73.968181</td>\n",
       "    </tr>\n",
       "    <tr>\n",
       "      <th>1</th>\n",
       "      <td>4 Ave &amp; 3 St</td>\n",
       "      <td>40.673746</td>\n",
       "      <td>-73.985649</td>\n",
       "    </tr>\n",
       "    <tr>\n",
       "      <th>2</th>\n",
       "      <td>1 Ave &amp; E 62 St</td>\n",
       "      <td>40.761227</td>\n",
       "      <td>-73.960940</td>\n",
       "    </tr>\n",
       "  </tbody>\n",
       "</table>\n",
       "</div>"
      ],
      "text/plain": [
       "        start_station_name  start_lat  start_lng\n",
       "0  West End Ave & W 107 St  40.802117 -73.968181\n",
       "1             4 Ave & 3 St  40.673746 -73.985649\n",
       "2          1 Ave & E 62 St  40.761227 -73.960940"
      ]
     },
     "execution_count": 26,
     "metadata": {},
     "output_type": "execute_result"
    }
   ],
   "source": [
    "start_coords.head(3)"
   ]
  },
  {
   "cell_type": "markdown",
   "id": "74d7a65c-2e18-4e15-9827-3f12ed245d0a",
   "metadata": {},
   "source": [
    "#### 2, Merge start station coordinates"
   ]
  },
  {
   "cell_type": "code",
   "execution_count": 27,
   "id": "3deb5a59-5bf5-4b0b-af3e-b2b0f2ed89b7",
   "metadata": {},
   "outputs": [],
   "source": [
    "# merge start coordinates\n",
    "merged = pd.merge(\n",
    "    df_routes,\n",
    "    start_coords,\n",
    "    on='start_station_name',\n",
    "    how='left'\n",
    ")"
   ]
  },
  {
   "cell_type": "code",
   "execution_count": 28,
   "id": "d978b123-9909-414c-8709-c3231b2ae461",
   "metadata": {},
   "outputs": [
    {
     "data": {
      "text/html": [
       "<div>\n",
       "<style scoped>\n",
       "    .dataframe tbody tr th:only-of-type {\n",
       "        vertical-align: middle;\n",
       "    }\n",
       "\n",
       "    .dataframe tbody tr th {\n",
       "        vertical-align: top;\n",
       "    }\n",
       "\n",
       "    .dataframe thead th {\n",
       "        text-align: right;\n",
       "    }\n",
       "</style>\n",
       "<table border=\"1\" class=\"dataframe\">\n",
       "  <thead>\n",
       "    <tr style=\"text-align: right;\">\n",
       "      <th></th>\n",
       "      <th>start_station_name</th>\n",
       "      <th>end_station_name</th>\n",
       "      <th>trips</th>\n",
       "      <th>start_lat</th>\n",
       "      <th>start_lng</th>\n",
       "    </tr>\n",
       "  </thead>\n",
       "  <tbody>\n",
       "    <tr>\n",
       "      <th>0</th>\n",
       "      <td>1 Ave &amp; E 110 St</td>\n",
       "      <td>1 Ave &amp; E 110 St</td>\n",
       "      <td>791</td>\n",
       "      <td>40.792327</td>\n",
       "      <td>-73.9383</td>\n",
       "    </tr>\n",
       "    <tr>\n",
       "      <th>1</th>\n",
       "      <td>1 Ave &amp; E 110 St</td>\n",
       "      <td>1 Ave &amp; E 18 St</td>\n",
       "      <td>2</td>\n",
       "      <td>40.792327</td>\n",
       "      <td>-73.9383</td>\n",
       "    </tr>\n",
       "    <tr>\n",
       "      <th>2</th>\n",
       "      <td>1 Ave &amp; E 110 St</td>\n",
       "      <td>1 Ave &amp; E 30 St</td>\n",
       "      <td>4</td>\n",
       "      <td>40.792327</td>\n",
       "      <td>-73.9383</td>\n",
       "    </tr>\n",
       "  </tbody>\n",
       "</table>\n",
       "</div>"
      ],
      "text/plain": [
       "  start_station_name  end_station_name  trips  start_lat  start_lng\n",
       "0   1 Ave & E 110 St  1 Ave & E 110 St    791  40.792327   -73.9383\n",
       "1   1 Ave & E 110 St   1 Ave & E 18 St      2  40.792327   -73.9383\n",
       "2   1 Ave & E 110 St   1 Ave & E 30 St      4  40.792327   -73.9383"
      ]
     },
     "execution_count": 28,
     "metadata": {},
     "output_type": "execute_result"
    }
   ],
   "source": [
    "merged.head(3)\n",
    "# now has the start coord info"
   ]
  },
  {
   "cell_type": "code",
   "execution_count": 29,
   "id": "a3e74fc1-8a23-4fe4-9d1b-734047242b91",
   "metadata": {},
   "outputs": [],
   "source": [
    "# merge end coordinates\n",
    "merged = pd.merge(\n",
    "    merged,\n",
    "    end_coords,\n",
    "    on='end_station_name',\n",
    "    how='left'\n",
    ")"
   ]
  },
  {
   "cell_type": "code",
   "execution_count": 30,
   "id": "43a5be27-0898-4cd4-beda-86462d2ec4c1",
   "metadata": {},
   "outputs": [
    {
     "data": {
      "text/html": [
       "<div>\n",
       "<style scoped>\n",
       "    .dataframe tbody tr th:only-of-type {\n",
       "        vertical-align: middle;\n",
       "    }\n",
       "\n",
       "    .dataframe tbody tr th {\n",
       "        vertical-align: top;\n",
       "    }\n",
       "\n",
       "    .dataframe thead th {\n",
       "        text-align: right;\n",
       "    }\n",
       "</style>\n",
       "<table border=\"1\" class=\"dataframe\">\n",
       "  <thead>\n",
       "    <tr style=\"text-align: right;\">\n",
       "      <th></th>\n",
       "      <th>start_station_name</th>\n",
       "      <th>end_station_name</th>\n",
       "      <th>trips</th>\n",
       "      <th>start_lat</th>\n",
       "      <th>start_lng</th>\n",
       "      <th>end_lat</th>\n",
       "      <th>end_lng</th>\n",
       "    </tr>\n",
       "  </thead>\n",
       "  <tbody>\n",
       "    <tr>\n",
       "      <th>0</th>\n",
       "      <td>1 Ave &amp; E 110 St</td>\n",
       "      <td>1 Ave &amp; E 110 St</td>\n",
       "      <td>791</td>\n",
       "      <td>40.792327</td>\n",
       "      <td>-73.9383</td>\n",
       "      <td>40.792327</td>\n",
       "      <td>-73.938300</td>\n",
       "    </tr>\n",
       "    <tr>\n",
       "      <th>1</th>\n",
       "      <td>1 Ave &amp; E 110 St</td>\n",
       "      <td>1 Ave &amp; E 18 St</td>\n",
       "      <td>2</td>\n",
       "      <td>40.792327</td>\n",
       "      <td>-73.9383</td>\n",
       "      <td>40.733812</td>\n",
       "      <td>-73.980544</td>\n",
       "    </tr>\n",
       "    <tr>\n",
       "      <th>2</th>\n",
       "      <td>1 Ave &amp; E 110 St</td>\n",
       "      <td>1 Ave &amp; E 30 St</td>\n",
       "      <td>4</td>\n",
       "      <td>40.792327</td>\n",
       "      <td>-73.9383</td>\n",
       "      <td>40.741444</td>\n",
       "      <td>-73.975361</td>\n",
       "    </tr>\n",
       "  </tbody>\n",
       "</table>\n",
       "</div>"
      ],
      "text/plain": [
       "  start_station_name  end_station_name  trips  start_lat  start_lng  \\\n",
       "0   1 Ave & E 110 St  1 Ave & E 110 St    791  40.792327   -73.9383   \n",
       "1   1 Ave & E 110 St   1 Ave & E 18 St      2  40.792327   -73.9383   \n",
       "2   1 Ave & E 110 St   1 Ave & E 30 St      4  40.792327   -73.9383   \n",
       "\n",
       "     end_lat    end_lng  \n",
       "0  40.792327 -73.938300  \n",
       "1  40.733812 -73.980544  \n",
       "2  40.741444 -73.975361  "
      ]
     },
     "execution_count": 30,
     "metadata": {},
     "output_type": "execute_result"
    }
   ],
   "source": [
    "merged.head(3)\n",
    "# now has all coord info"
   ]
  },
  {
   "cell_type": "code",
   "execution_count": 31,
   "id": "4be9f7ae-5373-4d7e-b885-0565a81b5e43",
   "metadata": {},
   "outputs": [
    {
     "data": {
      "text/plain": [
       "2358"
      ]
     },
     "execution_count": 31,
     "metadata": {},
     "output_type": "execute_result"
    }
   ],
   "source": [
    "import gc # garbage collector - speeds up performance\n",
    "gc.collect()"
   ]
  },
  {
   "cell_type": "code",
   "execution_count": 32,
   "id": "b33f1c1f-e3c2-46c9-a623-d9c29a8d0bb5",
   "metadata": {},
   "outputs": [
    {
     "data": {
      "text/plain": [
       "(1015140, 7)"
      ]
     },
     "execution_count": 32,
     "metadata": {},
     "output_type": "execute_result"
    }
   ],
   "source": [
    "merged.shape"
   ]
  },
  {
   "cell_type": "markdown",
   "id": "850871bf-d455-4df4-94ab-0a576b339e97",
   "metadata": {},
   "source": [
    "**Investigate NaN values**"
   ]
  },
  {
   "cell_type": "code",
   "execution_count": 33,
   "id": "31d8a5a4-e2dd-4cb3-8bd8-c84bb831a739",
   "metadata": {},
   "outputs": [
    {
     "data": {
      "text/plain": [
       "start_station_name       1\n",
       "end_station_name      1718\n",
       "trips                    0\n",
       "start_lat                0\n",
       "start_lng                0\n",
       "end_lat               1718\n",
       "end_lng               1718\n",
       "dtype: int64"
      ]
     },
     "execution_count": 33,
     "metadata": {},
     "output_type": "execute_result"
    }
   ],
   "source": [
    "# show where the missing values are\n",
    "merged.isna().sum()"
   ]
  },
  {
   "cell_type": "code",
   "execution_count": 34,
   "id": "ea7ed770-9e8c-4702-b352-8bb37c9151cf",
   "metadata": {},
   "outputs": [
    {
     "data": {
      "text/html": [
       "<div>\n",
       "<style scoped>\n",
       "    .dataframe tbody tr th:only-of-type {\n",
       "        vertical-align: middle;\n",
       "    }\n",
       "\n",
       "    .dataframe tbody tr th {\n",
       "        vertical-align: top;\n",
       "    }\n",
       "\n",
       "    .dataframe thead th {\n",
       "        text-align: right;\n",
       "    }\n",
       "</style>\n",
       "<table border=\"1\" class=\"dataframe\">\n",
       "  <thead>\n",
       "    <tr style=\"text-align: right;\">\n",
       "      <th></th>\n",
       "      <th>start_station_name</th>\n",
       "      <th>end_station_name</th>\n",
       "      <th>trips</th>\n",
       "      <th>start_lat</th>\n",
       "      <th>start_lng</th>\n",
       "      <th>end_lat</th>\n",
       "      <th>end_lng</th>\n",
       "    </tr>\n",
       "  </thead>\n",
       "  <tbody>\n",
       "    <tr>\n",
       "      <th>1015139</th>\n",
       "      <td>NaN</td>\n",
       "      <td>NaN</td>\n",
       "      <td>49</td>\n",
       "      <td>40.67</td>\n",
       "      <td>-73.97</td>\n",
       "      <td>NaN</td>\n",
       "      <td>NaN</td>\n",
       "    </tr>\n",
       "  </tbody>\n",
       "</table>\n",
       "</div>"
      ],
      "text/plain": [
       "        start_station_name end_station_name  trips  start_lat  start_lng  \\\n",
       "1015139                NaN              NaN     49      40.67     -73.97   \n",
       "\n",
       "         end_lat  end_lng  \n",
       "1015139      NaN      NaN  "
      ]
     },
     "execution_count": 34,
     "metadata": {},
     "output_type": "execute_result"
    }
   ],
   "source": [
    "# show start station missing value\n",
    "merged[merged['start_station_name'].isna()]"
   ]
  },
  {
   "cell_type": "code",
   "execution_count": 35,
   "id": "59aa0097-2883-43cf-8734-816f808b595f",
   "metadata": {},
   "outputs": [
    {
     "data": {
      "text/plain": [
       "np.int64(29838806)"
      ]
     },
     "execution_count": 35,
     "metadata": {},
     "output_type": "execute_result"
    }
   ],
   "source": [
    "merged['trips'].sum()"
   ]
  },
  {
   "cell_type": "code",
   "execution_count": 36,
   "id": "8f120453-fdf5-4ccd-9947-2a6abffc5606",
   "metadata": {},
   "outputs": [
    {
     "data": {
      "text/plain": [
       "<bound method IndexOpsMixin.value_counts of 0           791\n",
       "1             2\n",
       "2             4\n",
       "3             1\n",
       "4            12\n",
       "           ... \n",
       "1015135       4\n",
       "1015136       1\n",
       "1015137    5759\n",
       "1015138      74\n",
       "1015139      49\n",
       "Name: trips, Length: 1015140, dtype: int64>"
      ]
     },
     "execution_count": 36,
     "metadata": {},
     "output_type": "execute_result"
    }
   ],
   "source": [
    "merged['trips'].value_counts"
   ]
  },
  {
   "cell_type": "markdown",
   "id": "9adbda18-446a-4b5d-898f-481d97f73655",
   "metadata": {},
   "source": [
    "**Note:** The row with a missing start station also has a missing end station. The number of trips for that route is 49 which is < 0 % of the total trips and on the lower end of trip counts for a route. Due to this reason and the inability of mapping with this NaN value, this row will be removed.\n",
    "\n",
    "*This could be a route that has since been discontinued.*"
   ]
  },
  {
   "cell_type": "code",
   "execution_count": 37,
   "id": "b2579809-3998-48ea-bc6a-73728d5699c5",
   "metadata": {},
   "outputs": [],
   "source": [
    "# show end station missing values\n",
    "no_end_station = merged[merged['end_station_name'].isna()]"
   ]
  },
  {
   "cell_type": "code",
   "execution_count": 38,
   "id": "468a365c-595d-46ee-8125-7b1562abcaa0",
   "metadata": {},
   "outputs": [
    {
     "data": {
      "text/plain": [
       "trips\n",
       "9      51\n",
       "14     48\n",
       "12     39\n",
       "10     39\n",
       "2      39\n",
       "       ..\n",
       "160     1\n",
       "147     1\n",
       "121     1\n",
       "120     1\n",
       "244     1\n",
       "Name: count, Length: 170, dtype: int64"
      ]
     },
     "execution_count": 38,
     "metadata": {},
     "output_type": "execute_result"
    }
   ],
   "source": [
    "# show the trip count for all missing end station routes\n",
    "no_end_station['trips'].value_counts(dropna = False)"
   ]
  },
  {
   "cell_type": "code",
   "execution_count": 39,
   "id": "7fa78a24-2484-44de-90af-c9f10fd6e36d",
   "metadata": {},
   "outputs": [
    {
     "data": {
      "text/plain": [
       "np.int64(70092)"
      ]
     },
     "execution_count": 39,
     "metadata": {},
     "output_type": "execute_result"
    }
   ],
   "source": [
    "# total trips with no end station listed\n",
    "no_end_station['trips'].sum()"
   ]
  },
  {
   "cell_type": "code",
   "execution_count": 40,
   "id": "2ba1ae7c-78b3-43ee-8de8-3b790ab9bb73",
   "metadata": {},
   "outputs": [
    {
     "data": {
      "text/plain": [
       "np.float64(0.0023490216062934956)"
      ]
     },
     "execution_count": 40,
     "metadata": {},
     "output_type": "execute_result"
    }
   ],
   "source": [
    "# what percent of trips have no end station listed\n",
    "no_end_station['trips'].sum() / merged['trips'].sum()"
   ]
  },
  {
   "cell_type": "markdown",
   "id": "e5a9e898-dea5-4eb1-8b7a-7e19f52b6c21",
   "metadata": {},
   "source": [
    "**Note:** This effects 1,718 routes (.17% of all routes) and accounts for a total of 70,092 trips (.23% of all trips). While this information is useful, due to the small percentage and inablity to find missing data needed to create the map, these rows will be removed."
   ]
  },
  {
   "cell_type": "markdown",
   "id": "d07464fb-26b5-4779-9b6f-157d6b550504",
   "metadata": {},
   "source": [
    "**Remove NaN values**"
   ]
  },
  {
   "cell_type": "code",
   "execution_count": 41,
   "id": "4273e21a-74ae-42d4-ba76-907c32d18458",
   "metadata": {},
   "outputs": [],
   "source": [
    "merged = merged.dropna()"
   ]
  },
  {
   "cell_type": "code",
   "execution_count": 42,
   "id": "2c051531-e6c1-4ee4-be1f-6f6e804edbe0",
   "metadata": {},
   "outputs": [
    {
     "data": {
      "text/plain": [
       "start_station_name    0\n",
       "end_station_name      0\n",
       "trips                 0\n",
       "start_lat             0\n",
       "start_lng             0\n",
       "end_lat               0\n",
       "end_lng               0\n",
       "dtype: int64"
      ]
     },
     "execution_count": 42,
     "metadata": {},
     "output_type": "execute_result"
    }
   ],
   "source": [
    "merged.isna().sum()\n",
    "# now all missing values are gone"
   ]
  },
  {
   "cell_type": "code",
   "execution_count": 43,
   "id": "c73d62bf-2c12-4c72-b458-474d72c16dc6",
   "metadata": {},
   "outputs": [
    {
     "data": {
      "text/plain": [
       "(1013422, 7)"
      ]
     },
     "execution_count": 43,
     "metadata": {},
     "output_type": "execute_result"
    }
   ],
   "source": [
    "# new shape info\n",
    "merged.shape"
   ]
  },
  {
   "cell_type": "code",
   "execution_count": 44,
   "id": "087a53e0-f608-4b64-ab62-99ae0d042d08",
   "metadata": {},
   "outputs": [
    {
     "data": {
      "text/plain": [
       "1718"
      ]
     },
     "execution_count": 44,
     "metadata": {},
     "output_type": "execute_result"
    }
   ],
   "source": [
    "1015140 - 1013422\n",
    "# removed 1718 rows (matches the number of coord values missing)"
   ]
  },
  {
   "cell_type": "markdown",
   "id": "1b3081fa-0d2d-4787-8a81-858ff82a258a",
   "metadata": {},
   "source": [
    "## Export Map df"
   ]
  },
  {
   "cell_type": "code",
   "execution_count": 45,
   "id": "96e852b7-e159-40f1-a40e-5215c6e81df3",
   "metadata": {},
   "outputs": [],
   "source": [
    "merged.to_csv('stationcoord_tripcount_for_map.csv')"
   ]
  },
  {
   "cell_type": "code",
   "execution_count": 46,
   "id": "187f54d7-6187-4f72-86f8-97a44c1ccc18",
   "metadata": {},
   "outputs": [],
   "source": [
    "# open df in https://kepler.gl to make edits, save as json and csv"
   ]
  },
  {
   "cell_type": "code",
   "execution_count": 53,
   "id": "89b233ef-dbc3-4284-9c27-6f1e71fe3e8f",
   "metadata": {},
   "outputs": [],
   "source": [
    "# Note: I also exported it as an html, but this did not preserve the interactive filter"
   ]
  },
  {
   "cell_type": "code",
   "execution_count": 47,
   "id": "eac10684-5dab-44ac-81ff-08ee15e55868",
   "metadata": {},
   "outputs": [],
   "source": [
    "# import map csv\n",
    "map_df = pd.read_csv('kepler.gl.csv')"
   ]
  },
  {
   "cell_type": "code",
   "execution_count": 48,
   "id": "9227ad02-03dd-4880-b9ab-1e357406535a",
   "metadata": {},
   "outputs": [],
   "source": [
    "import json\n",
    "\n",
    "with open('kepler.gl.json') as f:\n",
    "    config = json.load(f)"
   ]
  },
  {
   "cell_type": "code",
   "execution_count": 49,
   "id": "5955464a-fac4-4c03-8ce2-fc06e0c92d79",
   "metadata": {},
   "outputs": [
    {
     "name": "stdout",
     "output_type": "stream",
     "text": [
      "User Guide: https://docs.kepler.gl/docs/keplergl-jupyter\n"
     ]
    }
   ],
   "source": [
    "m = KeplerGl(config=config, data={\"data_1\": map_df})"
   ]
  },
  {
   "cell_type": "code",
   "execution_count": 50,
   "id": "3147abbe-51a3-40cd-b9c5-5f750c0805c2",
   "metadata": {},
   "outputs": [
    {
     "name": "stderr",
     "output_type": "stream",
     "text": [
      "IOPub data rate exceeded.\n",
      "The Jupyter server will temporarily stop sending output\n",
      "to the client in order to avoid crashing it.\n",
      "To change this limit, set the config variable\n",
      "`--ServerApp.iopub_data_rate_limit`.\n",
      "\n",
      "Current values:\n",
      "ServerApp.iopub_data_rate_limit=1000000.0 (bytes/sec)\n",
      "ServerApp.rate_limit_window=3.0 (secs)\n",
      "\n"
     ]
    },
    {
     "data": {
      "application/vnd.jupyter.widget-view+json": {
       "model_id": "9b3f418fae3940c0962bd6a527b75de1",
       "version_major": 2,
       "version_minor": 0
      },
      "text/plain": [
       "KeplerGl(config={'datasets': [{'version': 'v1', 'data': {'id': '-6nvmlx', 'label': 'stationcoord_tripcount_for…"
      ]
     },
     "execution_count": 50,
     "metadata": {},
     "output_type": "execute_result"
    }
   ],
   "source": [
    "m"
   ]
  },
  {
   "cell_type": "code",
   "execution_count": 51,
   "id": "a4b083b8-c9a1-4414-918d-59cc69eb66b3",
   "metadata": {},
   "outputs": [
    {
     "name": "stdout",
     "output_type": "stream",
     "text": [
      "interactive_kepler_map.html\n"
     ]
    },
    {
     "ename": "Exception",
     "evalue": "data type incorrect expecting a dictionary mapping from data id to value, but got <class 'str'>",
     "output_type": "error",
     "traceback": [
      "\u001b[31m---------------------------------------------------------------------------\u001b[39m",
      "\u001b[31mException\u001b[39m                                 Traceback (most recent call last)",
      "\u001b[36mCell\u001b[39m\u001b[36m \u001b[39m\u001b[32mIn[51]\u001b[39m\u001b[32m, line 1\u001b[39m\n\u001b[32m----> \u001b[39m\u001b[32m1\u001b[39m m.save_to_html(\u001b[33m\"\u001b[39m\u001b[33minteractive_kepler_map.html\u001b[39m\u001b[33m\"\u001b[39m, config=config)\n",
      "\u001b[36mFile \u001b[39m\u001b[32m~\\anaconda3\\envs\\venv_citi\\Lib\\site-packages\\keplergl\\keplergl.py:236\u001b[39m, in \u001b[36mKeplerGl.save_to_html\u001b[39m\u001b[34m(self, data, config, file_name, read_only, center_map)\u001b[39m\n\u001b[32m    216\u001b[39m \u001b[38;5;28;01mdef\u001b[39;00m\u001b[38;5;250m \u001b[39m\u001b[34msave_to_html\u001b[39m(\u001b[38;5;28mself\u001b[39m, data=\u001b[38;5;28;01mNone\u001b[39;00m, config=\u001b[38;5;28;01mNone\u001b[39;00m, file_name=\u001b[33m'\u001b[39m\u001b[33mkeplergl_map.html\u001b[39m\u001b[33m'\u001b[39m, read_only=\u001b[38;5;28;01mFalse\u001b[39;00m, center_map=\u001b[38;5;28;01mFalse\u001b[39;00m):\n\u001b[32m    217\u001b[39m \u001b[38;5;250m    \u001b[39m\u001b[33;03m''' Save current map to an interactive html\u001b[39;00m\n\u001b[32m    218\u001b[39m \n\u001b[32m    219\u001b[39m \u001b[33;03m    Inputs:\u001b[39;00m\n\u001b[32m   (...)\u001b[39m\u001b[32m    234\u001b[39m \n\u001b[32m    235\u001b[39m \u001b[33;03m    '''\u001b[39;00m\n\u001b[32m--> \u001b[39m\u001b[32m236\u001b[39m     frame_txt = \u001b[38;5;28mself\u001b[39m._repr_html_(data=data, config=config, read_only=read_only, center_map=center_map)\n\u001b[32m    238\u001b[39m     \u001b[38;5;28;01mwith\u001b[39;00m \u001b[38;5;28mopen\u001b[39m(file_name, \u001b[33m'\u001b[39m\u001b[33mwb\u001b[39m\u001b[33m'\u001b[39m) \u001b[38;5;28;01mas\u001b[39;00m f:\n\u001b[32m    239\u001b[39m         f.write(frame_txt)\n",
      "\u001b[36mFile \u001b[39m\u001b[32m~\\anaconda3\\envs\\venv_citi\\Lib\\site-packages\\keplergl\\keplergl.py:203\u001b[39m, in \u001b[36mKeplerGl._repr_html_\u001b[39m\u001b[34m(self, data, config, read_only, center_map)\u001b[39m\n\u001b[32m    200\u001b[39m \u001b[38;5;66;03m# find open of body\u001b[39;00m\n\u001b[32m    201\u001b[39m k = keplergl_html.find(\u001b[33m\"\u001b[39m\u001b[33m<body>\u001b[39m\u001b[33m\"\u001b[39m)\n\u001b[32m--> \u001b[39m\u001b[32m203\u001b[39m data_to_add = data_to_json(\u001b[38;5;28mself\u001b[39m.data, \u001b[38;5;28;01mNone\u001b[39;00m) \u001b[38;5;28;01mif\u001b[39;00m data == \u001b[38;5;28;01mNone\u001b[39;00m \u001b[38;5;28;01melse\u001b[39;00m data_to_json(data, \u001b[38;5;28;01mNone\u001b[39;00m)\n\u001b[32m    204\u001b[39m config_to_add = \u001b[38;5;28mself\u001b[39m.config \u001b[38;5;28;01mif\u001b[39;00m config == \u001b[38;5;28;01mNone\u001b[39;00m \u001b[38;5;28;01melse\u001b[39;00m config\n\u001b[32m    206\u001b[39m \u001b[38;5;66;03m# for key in data_to_add:\u001b[39;00m\n\u001b[32m    207\u001b[39m \u001b[38;5;66;03m#     print(type(data_to_add[key]))\u001b[39;00m\n",
      "\u001b[36mFile \u001b[39m\u001b[32m~\\anaconda3\\envs\\venv_citi\\Lib\\site-packages\\keplergl\\keplergl.py:63\u001b[39m, in \u001b[36mdata_to_json\u001b[39m\u001b[34m(data, manager)\u001b[39m\n\u001b[32m     61\u001b[39m \u001b[38;5;28;01mif\u001b[39;00m \u001b[38;5;28mtype\u001b[39m(data) \u001b[38;5;129;01mis\u001b[39;00m \u001b[38;5;129;01mnot\u001b[39;00m \u001b[38;5;28mdict\u001b[39m:\n\u001b[32m     62\u001b[39m     \u001b[38;5;28mprint\u001b[39m(data)\n\u001b[32m---> \u001b[39m\u001b[32m63\u001b[39m     \u001b[38;5;28;01mraise\u001b[39;00m \u001b[38;5;167;01mException\u001b[39;00m(\u001b[33m'\u001b[39m\u001b[33mdata type incorrect expecting a dictionary mapping from data id to value, but got \u001b[39m\u001b[38;5;132;01m{}\u001b[39;00m\u001b[33m'\u001b[39m.format(\u001b[38;5;28mtype\u001b[39m(data)))\n\u001b[32m     64\u001b[39m     \u001b[38;5;28;01mreturn\u001b[39;00m \u001b[38;5;28;01mNone\u001b[39;00m\n\u001b[32m     65\u001b[39m \u001b[38;5;28;01melse\u001b[39;00m:\n",
      "\u001b[31mException\u001b[39m: data type incorrect expecting a dictionary mapping from data id to value, but got <class 'str'>"
     ]
    }
   ],
   "source": [
    "m.save_to_html(\"interactive_kepler_map.html\", config=config)"
   ]
  },
  {
   "cell_type": "markdown",
   "id": "a16901ab-4e6b-4164-96af-fd9f6a0568f5",
   "metadata": {},
   "source": [
    "**Note:** This was the error I would get if I tried it the way the lesson did it:"
   ]
  },
  {
   "cell_type": "code",
   "execution_count": 52,
   "id": "4a191aa1-a5c7-423c-8445-6c637b59152b",
   "metadata": {},
   "outputs": [
    {
     "name": "stdout",
     "output_type": "stream",
     "text": [
      "User Guide: https://docs.kepler.gl/docs/keplergl-jupyter\n"
     ]
    },
    {
     "name": "stderr",
     "output_type": "stream",
     "text": [
      "C:\\Users\\steve\\anaconda3\\envs\\venv_citi\\Lib\\site-packages\\IPython\\core\\formatters.py:429: FormatterWarning: text/html formatter returned invalid type <class 'bytes'> (expected <class 'str'>) for object: KeplerGl(data={'data_1':             start_station_name       end_station_name  trips  start_lat  \\\n",
      "0             1 Ave & E 110 St       1 Ave & E 110 St    791  40.792327   \n",
      "1             1 Ave & E 110 St        1 Ave & E 18 St      2  40.792327   \n",
      "2             1 Ave & E 110 St        1 Ave & E 30 St      4  40.792327   \n",
      "3             1 Ave & E 110 St        1 Ave & E 39 St      1  40.792327   \n",
      "4             1 Ave & E 110 St        1 Ave & E 44 St     12  40.792327   \n",
      "...                        ...                    ...    ...        ...   \n",
      "1015133  Yankee Ferry Terminal     Water St & Main St      4  40.687066   \n",
      "1015134  Yankee Ferry Terminal  West St & Chambers St      6  40.687066   \n",
      "1015135  Yankee Ferry Terminal   West St & Liberty St      4  40.687066   \n",
      "1015136  Yankee Ferry Terminal         West Thames St      1  40.687066   \n",
      "1015137  Yankee Ferry Terminal  Yankee Ferry Terminal   5759  40.687066   \n",
      "\n",
      "         start_lng    end_lat    end_lng  \n",
      "0       -73.938300  40.792327 -73.938300  \n",
      "1       -73.938300  40.733812 -73.980544  \n",
      "2       -73.938300  40.741444 -73.975361  \n",
      "3       -73.938300  40.747140 -73.971130  \n",
      "4       -73.938300  40.750020 -73.969053  \n",
      "...            ...        ...        ...  \n",
      "1015133 -74.016756  40.703212 -73.990409  \n",
      "1015134 -74.016756  40.717548 -74.013221  \n",
      "1015135 -74.016756  40.711444 -74.014847  \n",
      "1015136 -74.016756  40.708347 -74.017134  \n",
      "1015137 -74.016756  40.687066 -74.016756  \n",
      "\n",
      "[1013422 rows x 7 columns]}, height=700)\n",
      "  warnings.warn(\n"
     ]
    },
    {
     "data": {
      "application/vnd.jupyter.widget-view+json": {
       "model_id": "a767758e7538400492874ea17c6ec6f4",
       "version_major": 2,
       "version_minor": 0
      },
      "text/plain": [
       "KeplerGl(data={'data_1':             start_station_name       end_station_name  trips  start_lat  \\\n",
       "0         …"
      ]
     },
     "execution_count": 52,
     "metadata": {},
     "output_type": "execute_result"
    }
   ],
   "source": [
    "# Create KeplerGl instance\n",
    "m = KeplerGl(height = 700, data={\"data_1\": merged})\n",
    "m"
   ]
  },
  {
   "cell_type": "code",
   "execution_count": null,
   "id": "1e5555dc-7afa-448d-a2a9-13ea89be605c",
   "metadata": {},
   "outputs": [],
   "source": []
  }
 ],
 "metadata": {
  "kernelspec": {
   "display_name": "Python (venv_citi)",
   "language": "python",
   "name": "venv_citi"
  },
  "language_info": {
   "codemirror_mode": {
    "name": "ipython",
    "version": 3
   },
   "file_extension": ".py",
   "mimetype": "text/x-python",
   "name": "python",
   "nbconvert_exporter": "python",
   "pygments_lexer": "ipython3",
   "version": "3.13.2"
  }
 },
 "nbformat": 4,
 "nbformat_minor": 5
}
