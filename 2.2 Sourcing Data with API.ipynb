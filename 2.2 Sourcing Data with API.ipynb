{
 "cells": [
  {
   "cell_type": "markdown",
   "id": "f4676b85-2774-4458-8bac-083bdc67f93a",
   "metadata": {},
   "source": [
    "## Import Libraries"
   ]
  },
  {
   "cell_type": "code",
   "execution_count": 1,
   "id": "45ebdbda-ed0b-4eef-a2d0-ab3351452311",
   "metadata": {},
   "outputs": [],
   "source": [
    "import pandas as pd\n",
    "import numpy as np\n",
    "import os\n",
    "import requests\n",
    "import json\n",
    "from datetime import datetime"
   ]
  },
  {
   "cell_type": "markdown",
   "id": "4869efc9-82e7-4082-af3a-445cfda90216",
   "metadata": {},
   "source": [
    "## Import Data"
   ]
  },
  {
   "cell_type": "markdown",
   "id": "f202bfa6-9998-4de1-9ce4-ac68f2c53a3c",
   "metadata": {},
   "source": [
    "### --- Citi 2022 Data ---"
   ]
  },
  {
   "cell_type": "code",
   "execution_count": 11,
   "id": "aa31c73f-40ce-4e3a-adee-5ce18e7bb5a4",
   "metadata": {},
   "outputs": [],
   "source": [
    "# create a list with all files in the folder using a list comprehension\n",
    "folderpath = r\"Data\" \n",
    "filepath = [os.path.join(folderpath, name) for name in os.listdir(folderpath)]"
   ]
  },
  {
   "cell_type": "code",
   "execution_count": 14,
   "id": "42fa83d4-49f6-4156-9e57-a258fb657460",
   "metadata": {},
   "outputs": [],
   "source": [
    "# import and merge the 36(!) datasets into 1\n",
    "df = pd.concat(\n",
    "    (pd.read_csv(f, low_memory=False) for f in filepath),\n",
    "    ignore_index=True\n",
    ")"
   ]
  },
  {
   "cell_type": "code",
   "execution_count": 15,
   "id": "85284b4f-ac80-41e8-a348-4610f1c2c5b8",
   "metadata": {},
   "outputs": [
    {
     "data": {
      "text/html": [
       "<div>\n",
       "<style scoped>\n",
       "    .dataframe tbody tr th:only-of-type {\n",
       "        vertical-align: middle;\n",
       "    }\n",
       "\n",
       "    .dataframe tbody tr th {\n",
       "        vertical-align: top;\n",
       "    }\n",
       "\n",
       "    .dataframe thead th {\n",
       "        text-align: right;\n",
       "    }\n",
       "</style>\n",
       "<table border=\"1\" class=\"dataframe\">\n",
       "  <thead>\n",
       "    <tr style=\"text-align: right;\">\n",
       "      <th></th>\n",
       "      <th>ride_id</th>\n",
       "      <th>rideable_type</th>\n",
       "      <th>started_at</th>\n",
       "      <th>ended_at</th>\n",
       "      <th>start_station_name</th>\n",
       "      <th>start_station_id</th>\n",
       "      <th>end_station_name</th>\n",
       "      <th>end_station_id</th>\n",
       "      <th>start_lat</th>\n",
       "      <th>start_lng</th>\n",
       "      <th>end_lat</th>\n",
       "      <th>end_lng</th>\n",
       "      <th>member_casual</th>\n",
       "    </tr>\n",
       "  </thead>\n",
       "  <tbody>\n",
       "    <tr>\n",
       "      <th>0</th>\n",
       "      <td>BFD29218AB271154</td>\n",
       "      <td>electric_bike</td>\n",
       "      <td>2022-01-21 13:13:43.392</td>\n",
       "      <td>2022-01-21 13:22:31.463</td>\n",
       "      <td>West End Ave &amp; W 107 St</td>\n",
       "      <td>7650.05</td>\n",
       "      <td>Mt Morris Park W &amp; W 120 St</td>\n",
       "      <td>7685.14</td>\n",
       "      <td>40.802117</td>\n",
       "      <td>-73.968181</td>\n",
       "      <td>40.804038</td>\n",
       "      <td>-73.945925</td>\n",
       "      <td>member</td>\n",
       "    </tr>\n",
       "    <tr>\n",
       "      <th>1</th>\n",
       "      <td>7C953F2FD7BE1302</td>\n",
       "      <td>classic_bike</td>\n",
       "      <td>2022-01-10 11:30:54.162</td>\n",
       "      <td>2022-01-10 11:41:43.422</td>\n",
       "      <td>4 Ave &amp; 3 St</td>\n",
       "      <td>4028.04</td>\n",
       "      <td>Boerum Pl\\t&amp; Pacific St</td>\n",
       "      <td>4488.09</td>\n",
       "      <td>40.673746</td>\n",
       "      <td>-73.985649</td>\n",
       "      <td>40.688489</td>\n",
       "      <td>-73.991160</td>\n",
       "      <td>member</td>\n",
       "    </tr>\n",
       "    <tr>\n",
       "      <th>2</th>\n",
       "      <td>95893ABD40CED4B8</td>\n",
       "      <td>electric_bike</td>\n",
       "      <td>2022-01-26 10:52:43.096</td>\n",
       "      <td>2022-01-26 11:06:35.227</td>\n",
       "      <td>1 Ave &amp; E 62 St</td>\n",
       "      <td>6753.08</td>\n",
       "      <td>5 Ave &amp; E 29 St</td>\n",
       "      <td>6248.06</td>\n",
       "      <td>40.761227</td>\n",
       "      <td>-73.960940</td>\n",
       "      <td>40.745168</td>\n",
       "      <td>-73.986831</td>\n",
       "      <td>member</td>\n",
       "    </tr>\n",
       "  </tbody>\n",
       "</table>\n",
       "</div>"
      ],
      "text/plain": [
       "            ride_id  rideable_type               started_at  \\\n",
       "0  BFD29218AB271154  electric_bike  2022-01-21 13:13:43.392   \n",
       "1  7C953F2FD7BE1302   classic_bike  2022-01-10 11:30:54.162   \n",
       "2  95893ABD40CED4B8  electric_bike  2022-01-26 10:52:43.096   \n",
       "\n",
       "                  ended_at       start_station_name start_station_id  \\\n",
       "0  2022-01-21 13:22:31.463  West End Ave & W 107 St          7650.05   \n",
       "1  2022-01-10 11:41:43.422             4 Ave & 3 St          4028.04   \n",
       "2  2022-01-26 11:06:35.227          1 Ave & E 62 St          6753.08   \n",
       "\n",
       "              end_station_name end_station_id  start_lat  start_lng  \\\n",
       "0  Mt Morris Park W & W 120 St        7685.14  40.802117 -73.968181   \n",
       "1      Boerum Pl\\t& Pacific St        4488.09  40.673746 -73.985649   \n",
       "2              5 Ave & E 29 St        6248.06  40.761227 -73.960940   \n",
       "\n",
       "     end_lat    end_lng member_casual  \n",
       "0  40.804038 -73.945925        member  \n",
       "1  40.688489 -73.991160        member  \n",
       "2  40.745168 -73.986831        member  "
      ]
     },
     "execution_count": 15,
     "metadata": {},
     "output_type": "execute_result"
    }
   ],
   "source": [
    "df.head(3)"
   ]
  },
  {
   "cell_type": "code",
   "execution_count": 16,
   "id": "5efe3b6b-f7bb-414a-9d14-1284c6956bda",
   "metadata": {},
   "outputs": [
    {
     "data": {
      "text/html": [
       "<div>\n",
       "<style scoped>\n",
       "    .dataframe tbody tr th:only-of-type {\n",
       "        vertical-align: middle;\n",
       "    }\n",
       "\n",
       "    .dataframe tbody tr th {\n",
       "        vertical-align: top;\n",
       "    }\n",
       "\n",
       "    .dataframe thead th {\n",
       "        text-align: right;\n",
       "    }\n",
       "</style>\n",
       "<table border=\"1\" class=\"dataframe\">\n",
       "  <thead>\n",
       "    <tr style=\"text-align: right;\">\n",
       "      <th></th>\n",
       "      <th>ride_id</th>\n",
       "      <th>rideable_type</th>\n",
       "      <th>started_at</th>\n",
       "      <th>ended_at</th>\n",
       "      <th>start_station_name</th>\n",
       "      <th>start_station_id</th>\n",
       "      <th>end_station_name</th>\n",
       "      <th>end_station_id</th>\n",
       "      <th>start_lat</th>\n",
       "      <th>start_lng</th>\n",
       "      <th>end_lat</th>\n",
       "      <th>end_lng</th>\n",
       "      <th>member_casual</th>\n",
       "    </tr>\n",
       "  </thead>\n",
       "  <tbody>\n",
       "    <tr>\n",
       "      <th>29838803</th>\n",
       "      <td>11C8C5E0DB947B07</td>\n",
       "      <td>classic_bike</td>\n",
       "      <td>2022-12-01 05:56:14.903</td>\n",
       "      <td>2022-12-01 06:06:10.357</td>\n",
       "      <td>Avenue D &amp; E 3 St</td>\n",
       "      <td>5436.09</td>\n",
       "      <td>Bleecker St &amp; Crosby St</td>\n",
       "      <td>5679.08</td>\n",
       "      <td>40.720828</td>\n",
       "      <td>-73.977932</td>\n",
       "      <td>40.726156</td>\n",
       "      <td>-73.995102</td>\n",
       "      <td>member</td>\n",
       "    </tr>\n",
       "    <tr>\n",
       "      <th>29838804</th>\n",
       "      <td>5B9B083C534A5964</td>\n",
       "      <td>classic_bike</td>\n",
       "      <td>2022-12-02 11:54:15.871</td>\n",
       "      <td>2022-12-02 12:01:00.747</td>\n",
       "      <td>Montague St &amp; Clinton St</td>\n",
       "      <td>4677.06</td>\n",
       "      <td>Sands St &amp; Jay St</td>\n",
       "      <td>4821.03</td>\n",
       "      <td>40.694271</td>\n",
       "      <td>-73.992327</td>\n",
       "      <td>40.700119</td>\n",
       "      <td>-73.986200</td>\n",
       "      <td>member</td>\n",
       "    </tr>\n",
       "    <tr>\n",
       "      <th>29838805</th>\n",
       "      <td>91C286C462F89A50</td>\n",
       "      <td>classic_bike</td>\n",
       "      <td>2022-12-18 13:35:22.574</td>\n",
       "      <td>2022-12-18 13:37:27.193</td>\n",
       "      <td>Montague St &amp; Clinton St</td>\n",
       "      <td>4677.06</td>\n",
       "      <td>Cadman Plaza E &amp; Tillary St</td>\n",
       "      <td>4677.01</td>\n",
       "      <td>40.694271</td>\n",
       "      <td>-73.992327</td>\n",
       "      <td>40.695977</td>\n",
       "      <td>-73.990149</td>\n",
       "      <td>member</td>\n",
       "    </tr>\n",
       "  </tbody>\n",
       "</table>\n",
       "</div>"
      ],
      "text/plain": [
       "                   ride_id rideable_type               started_at  \\\n",
       "29838803  11C8C5E0DB947B07  classic_bike  2022-12-01 05:56:14.903   \n",
       "29838804  5B9B083C534A5964  classic_bike  2022-12-02 11:54:15.871   \n",
       "29838805  91C286C462F89A50  classic_bike  2022-12-18 13:35:22.574   \n",
       "\n",
       "                         ended_at        start_station_name start_station_id  \\\n",
       "29838803  2022-12-01 06:06:10.357         Avenue D & E 3 St          5436.09   \n",
       "29838804  2022-12-02 12:01:00.747  Montague St & Clinton St          4677.06   \n",
       "29838805  2022-12-18 13:37:27.193  Montague St & Clinton St          4677.06   \n",
       "\n",
       "                     end_station_name end_station_id  start_lat  start_lng  \\\n",
       "29838803      Bleecker St & Crosby St        5679.08  40.720828 -73.977932   \n",
       "29838804            Sands St & Jay St        4821.03  40.694271 -73.992327   \n",
       "29838805  Cadman Plaza E & Tillary St        4677.01  40.694271 -73.992327   \n",
       "\n",
       "            end_lat    end_lng member_casual  \n",
       "29838803  40.726156 -73.995102        member  \n",
       "29838804  40.700119 -73.986200        member  \n",
       "29838805  40.695977 -73.990149        member  "
      ]
     },
     "execution_count": 16,
     "metadata": {},
     "output_type": "execute_result"
    }
   ],
   "source": [
    "df.tail(3)"
   ]
  },
  {
   "cell_type": "markdown",
   "id": "422368a3-c1a9-4fd2-bca7-89ce29acfea6",
   "metadata": {},
   "source": [
    "### --- API Weather Data ---"
   ]
  },
  {
   "cell_type": "markdown",
   "id": "9105942d-8d62-46c6-a4b5-b0bb73db6614",
   "metadata": {},
   "source": [
    "**1. Define Token**"
   ]
  },
  {
   "cell_type": "code",
   "execution_count": 10,
   "id": "b3e48300-3956-4178-b5b0-cd3453208593",
   "metadata": {},
   "outputs": [],
   "source": [
    "# define your NOAA token\n",
    "Token = 'eXraitIZjoujfReLRjoaFTCXDcudehmv'"
   ]
  },
  {
   "cell_type": "markdown",
   "id": "b5220e06-fc76-4707-a300-51e1fe72d7f2",
   "metadata": {},
   "source": [
    "**2. Compile URL**"
   ]
  },
  {
   "cell_type": "code",
   "execution_count": 23,
   "id": "000137f9-48f8-4b45-a111-8237bcdb3833",
   "metadata": {},
   "outputs": [],
   "source": [
    "r = requests.get('https://www.ncdc.noaa.gov/cdo-web/api/v2/data?datasetid=GHCND&datatypeid=TAVG&limit=1000&stationid=GHCND:USW00014732&startdate=2022-01-01&enddate=2022-12-31', headers={'token':Token})"
   ]
  },
  {
   "cell_type": "markdown",
   "id": "8720d760-8362-46ab-9f53-2a84e2444327",
   "metadata": {},
   "source": [
    "**3. Store Data in JSON Format**"
   ]
  },
  {
   "cell_type": "code",
   "execution_count": 30,
   "id": "17ee1484-c99c-426e-876f-f253f7915744",
   "metadata": {},
   "outputs": [],
   "source": [
    "# load the api response as a json\n",
    "d = json.loads(r.text) "
   ]
  },
  {
   "cell_type": "markdown",
   "id": "32276530-1034-4128-a56f-46989a8c460c",
   "metadata": {},
   "source": [
    "**4. Wrangle Data Results**"
   ]
  },
  {
   "cell_type": "code",
   "execution_count": 31,
   "id": "63ad8535-94f1-4fc2-aede-32eea6a80abd",
   "metadata": {},
   "outputs": [],
   "source": [
    "# secure all items in the response that correspond to TAVG\n",
    "avg_temps = [item for item in d['results'] if item['datatype']=='TAVG']\n",
    "\n",
    "# get only the date field from all average temperature readings\n",
    "dates_temp = [item['date'] for item in avg_temps]\n",
    "\n",
    "# get the temperature from all average temperature readings\n",
    "temps = [item['value'] for item in avg_temps]"
   ]
  },
  {
   "cell_type": "code",
   "execution_count": 32,
   "id": "8132fea5-2570-428e-82e0-4d5709ff8dda",
   "metadata": {},
   "outputs": [],
   "source": [
    "# put the results in a dataframe\n",
    "df_temp = pd.DataFrame()"
   ]
  },
  {
   "cell_type": "code",
   "execution_count": 33,
   "id": "8cd68a74-6482-4ec8-980d-8d981562fd14",
   "metadata": {},
   "outputs": [],
   "source": [
    "# convert the date from dates_temp to a format where only the date is visible\n",
    "# i.e. remove the time (hrs, mins, secs) component\n",
    "df_temp['date'] = [datetime.strptime(d, \"%Y-%m-%dT%H:%M:%S\") for d in dates_temp]\n",
    "\n",
    "# convert temperature from tenths of celsius to normal celsius\n",
    "df_temp['avgTemp'] = [float(v)/10.0 for v in temps]"
   ]
  },
  {
   "cell_type": "code",
   "execution_count": 35,
   "id": "5f7a8f9d-681b-497e-aaa2-86d7105d5a05",
   "metadata": {},
   "outputs": [
    {
     "data": {
      "text/html": [
       "<div>\n",
       "<style scoped>\n",
       "    .dataframe tbody tr th:only-of-type {\n",
       "        vertical-align: middle;\n",
       "    }\n",
       "\n",
       "    .dataframe tbody tr th {\n",
       "        vertical-align: top;\n",
       "    }\n",
       "\n",
       "    .dataframe thead th {\n",
       "        text-align: right;\n",
       "    }\n",
       "</style>\n",
       "<table border=\"1\" class=\"dataframe\">\n",
       "  <thead>\n",
       "    <tr style=\"text-align: right;\">\n",
       "      <th></th>\n",
       "      <th>date</th>\n",
       "      <th>avgTemp</th>\n",
       "    </tr>\n",
       "  </thead>\n",
       "  <tbody>\n",
       "    <tr>\n",
       "      <th>362</th>\n",
       "      <td>2022-12-29</td>\n",
       "      <td>6.4</td>\n",
       "    </tr>\n",
       "    <tr>\n",
       "      <th>363</th>\n",
       "      <td>2022-12-30</td>\n",
       "      <td>9.3</td>\n",
       "    </tr>\n",
       "    <tr>\n",
       "      <th>364</th>\n",
       "      <td>2022-12-31</td>\n",
       "      <td>8.2</td>\n",
       "    </tr>\n",
       "  </tbody>\n",
       "</table>\n",
       "</div>"
      ],
      "text/plain": [
       "          date  avgTemp\n",
       "362 2022-12-29      6.4\n",
       "363 2022-12-30      9.3\n",
       "364 2022-12-31      8.2"
      ]
     },
     "execution_count": 35,
     "metadata": {},
     "output_type": "execute_result"
    }
   ],
   "source": [
    "df_temp.tail(3)"
   ]
  },
  {
   "cell_type": "code",
   "execution_count": 36,
   "id": "4146e49b-2af2-4c7f-9801-133185674d96",
   "metadata": {},
   "outputs": [
    {
     "data": {
      "text/html": [
       "<div>\n",
       "<style scoped>\n",
       "    .dataframe tbody tr th:only-of-type {\n",
       "        vertical-align: middle;\n",
       "    }\n",
       "\n",
       "    .dataframe tbody tr th {\n",
       "        vertical-align: top;\n",
       "    }\n",
       "\n",
       "    .dataframe thead th {\n",
       "        text-align: right;\n",
       "    }\n",
       "</style>\n",
       "<table border=\"1\" class=\"dataframe\">\n",
       "  <thead>\n",
       "    <tr style=\"text-align: right;\">\n",
       "      <th></th>\n",
       "      <th>date</th>\n",
       "      <th>avgTemp</th>\n",
       "    </tr>\n",
       "  </thead>\n",
       "  <tbody>\n",
       "    <tr>\n",
       "      <th>0</th>\n",
       "      <td>2022-01-01</td>\n",
       "      <td>11.6</td>\n",
       "    </tr>\n",
       "    <tr>\n",
       "      <th>1</th>\n",
       "      <td>2022-01-02</td>\n",
       "      <td>11.4</td>\n",
       "    </tr>\n",
       "    <tr>\n",
       "      <th>2</th>\n",
       "      <td>2022-01-03</td>\n",
       "      <td>1.4</td>\n",
       "    </tr>\n",
       "  </tbody>\n",
       "</table>\n",
       "</div>"
      ],
      "text/plain": [
       "        date  avgTemp\n",
       "0 2022-01-01     11.6\n",
       "1 2022-01-02     11.4\n",
       "2 2022-01-03      1.4"
      ]
     },
     "execution_count": 36,
     "metadata": {},
     "output_type": "execute_result"
    }
   ],
   "source": [
    "df_temp.head(3)"
   ]
  },
  {
   "cell_type": "code",
   "execution_count": 39,
   "id": "3f643a1c-3095-4623-bc88-661c480124b9",
   "metadata": {},
   "outputs": [],
   "source": [
    "# convert the started_at column to datetime format\n",
    "df['started_at'] = pd.to_datetime(df['started_at'], format=\"%Y-%m-%d %H:%M:%S.%f\")"
   ]
  },
  {
   "cell_type": "code",
   "execution_count": 40,
   "id": "5c11377a-98cf-471f-8122-a3d9899a4ebc",
   "metadata": {},
   "outputs": [],
   "source": [
    "# split the date from the time\n",
    "df['date'] = pd.to_datetime(df['started_at'], format='%Y-%m-%d').dt.date"
   ]
  },
  {
   "cell_type": "code",
   "execution_count": 41,
   "id": "de03f128-1ff7-4ae9-b143-078374009954",
   "metadata": {},
   "outputs": [],
   "source": [
    "df['date'] = pd.to_datetime(df['date'])"
   ]
  },
  {
   "cell_type": "code",
   "execution_count": 42,
   "id": "d27521b0-75fb-4c92-850d-78f9fd12dad6",
   "metadata": {},
   "outputs": [
    {
     "name": "stdout",
     "output_type": "stream",
     "text": [
      "CPU times: total: 58.8 s\n",
      "Wall time: 1min 49s\n"
     ]
    }
   ],
   "source": [
    "%%time\n",
    "# merge the bike data with the weather data\n",
    "df_merged = df.merge(df_temp, how = 'left', on = 'date', indicator = True)"
   ]
  },
  {
   "cell_type": "code",
   "execution_count": 43,
   "id": "a35330d2-104c-4650-b4eb-6708af3af32f",
   "metadata": {},
   "outputs": [
    {
     "data": {
      "text/html": [
       "<div>\n",
       "<style scoped>\n",
       "    .dataframe tbody tr th:only-of-type {\n",
       "        vertical-align: middle;\n",
       "    }\n",
       "\n",
       "    .dataframe tbody tr th {\n",
       "        vertical-align: top;\n",
       "    }\n",
       "\n",
       "    .dataframe thead th {\n",
       "        text-align: right;\n",
       "    }\n",
       "</style>\n",
       "<table border=\"1\" class=\"dataframe\">\n",
       "  <thead>\n",
       "    <tr style=\"text-align: right;\">\n",
       "      <th></th>\n",
       "      <th>ride_id</th>\n",
       "      <th>rideable_type</th>\n",
       "      <th>started_at</th>\n",
       "      <th>ended_at</th>\n",
       "      <th>start_station_name</th>\n",
       "      <th>start_station_id</th>\n",
       "      <th>end_station_name</th>\n",
       "      <th>end_station_id</th>\n",
       "      <th>start_lat</th>\n",
       "      <th>start_lng</th>\n",
       "      <th>end_lat</th>\n",
       "      <th>end_lng</th>\n",
       "      <th>member_casual</th>\n",
       "      <th>date</th>\n",
       "      <th>avgTemp</th>\n",
       "      <th>_merge</th>\n",
       "    </tr>\n",
       "  </thead>\n",
       "  <tbody>\n",
       "    <tr>\n",
       "      <th>0</th>\n",
       "      <td>BFD29218AB271154</td>\n",
       "      <td>electric_bike</td>\n",
       "      <td>2022-01-21 13:13:43.392</td>\n",
       "      <td>2022-01-21 13:22:31.463</td>\n",
       "      <td>West End Ave &amp; W 107 St</td>\n",
       "      <td>7650.05</td>\n",
       "      <td>Mt Morris Park W &amp; W 120 St</td>\n",
       "      <td>7685.14</td>\n",
       "      <td>40.802117</td>\n",
       "      <td>-73.968181</td>\n",
       "      <td>40.804038</td>\n",
       "      <td>-73.945925</td>\n",
       "      <td>member</td>\n",
       "      <td>2022-01-21</td>\n",
       "      <td>-6.0</td>\n",
       "      <td>both</td>\n",
       "    </tr>\n",
       "    <tr>\n",
       "      <th>1</th>\n",
       "      <td>7C953F2FD7BE1302</td>\n",
       "      <td>classic_bike</td>\n",
       "      <td>2022-01-10 11:30:54.162</td>\n",
       "      <td>2022-01-10 11:41:43.422</td>\n",
       "      <td>4 Ave &amp; 3 St</td>\n",
       "      <td>4028.04</td>\n",
       "      <td>Boerum Pl\\t&amp; Pacific St</td>\n",
       "      <td>4488.09</td>\n",
       "      <td>40.673746</td>\n",
       "      <td>-73.985649</td>\n",
       "      <td>40.688489</td>\n",
       "      <td>-73.991160</td>\n",
       "      <td>member</td>\n",
       "      <td>2022-01-10</td>\n",
       "      <td>1.6</td>\n",
       "      <td>both</td>\n",
       "    </tr>\n",
       "    <tr>\n",
       "      <th>2</th>\n",
       "      <td>95893ABD40CED4B8</td>\n",
       "      <td>electric_bike</td>\n",
       "      <td>2022-01-26 10:52:43.096</td>\n",
       "      <td>2022-01-26 11:06:35.227</td>\n",
       "      <td>1 Ave &amp; E 62 St</td>\n",
       "      <td>6753.08</td>\n",
       "      <td>5 Ave &amp; E 29 St</td>\n",
       "      <td>6248.06</td>\n",
       "      <td>40.761227</td>\n",
       "      <td>-73.960940</td>\n",
       "      <td>40.745168</td>\n",
       "      <td>-73.986831</td>\n",
       "      <td>member</td>\n",
       "      <td>2022-01-26</td>\n",
       "      <td>-2.3</td>\n",
       "      <td>both</td>\n",
       "    </tr>\n",
       "    <tr>\n",
       "      <th>3</th>\n",
       "      <td>F853B50772137378</td>\n",
       "      <td>classic_bike</td>\n",
       "      <td>2022-01-03 08:35:48.247</td>\n",
       "      <td>2022-01-03 09:10:50.475</td>\n",
       "      <td>2 Ave &amp; E 96 St</td>\n",
       "      <td>7338.02</td>\n",
       "      <td>5 Ave &amp; E 29 St</td>\n",
       "      <td>6248.06</td>\n",
       "      <td>40.783964</td>\n",
       "      <td>-73.947167</td>\n",
       "      <td>40.745168</td>\n",
       "      <td>-73.986831</td>\n",
       "      <td>member</td>\n",
       "      <td>2022-01-03</td>\n",
       "      <td>1.4</td>\n",
       "      <td>both</td>\n",
       "    </tr>\n",
       "    <tr>\n",
       "      <th>4</th>\n",
       "      <td>7590ADF834797B4B</td>\n",
       "      <td>classic_bike</td>\n",
       "      <td>2022-01-22 14:14:23.043</td>\n",
       "      <td>2022-01-22 14:34:57.474</td>\n",
       "      <td>6 Ave &amp; W 34 St</td>\n",
       "      <td>6364.10</td>\n",
       "      <td>5 Ave &amp; E 29 St</td>\n",
       "      <td>6248.06</td>\n",
       "      <td>40.749640</td>\n",
       "      <td>-73.988050</td>\n",
       "      <td>40.745168</td>\n",
       "      <td>-73.986831</td>\n",
       "      <td>member</td>\n",
       "      <td>2022-01-22</td>\n",
       "      <td>-5.9</td>\n",
       "      <td>both</td>\n",
       "    </tr>\n",
       "  </tbody>\n",
       "</table>\n",
       "</div>"
      ],
      "text/plain": [
       "            ride_id  rideable_type              started_at  \\\n",
       "0  BFD29218AB271154  electric_bike 2022-01-21 13:13:43.392   \n",
       "1  7C953F2FD7BE1302   classic_bike 2022-01-10 11:30:54.162   \n",
       "2  95893ABD40CED4B8  electric_bike 2022-01-26 10:52:43.096   \n",
       "3  F853B50772137378   classic_bike 2022-01-03 08:35:48.247   \n",
       "4  7590ADF834797B4B   classic_bike 2022-01-22 14:14:23.043   \n",
       "\n",
       "                  ended_at       start_station_name start_station_id  \\\n",
       "0  2022-01-21 13:22:31.463  West End Ave & W 107 St          7650.05   \n",
       "1  2022-01-10 11:41:43.422             4 Ave & 3 St          4028.04   \n",
       "2  2022-01-26 11:06:35.227          1 Ave & E 62 St          6753.08   \n",
       "3  2022-01-03 09:10:50.475          2 Ave & E 96 St          7338.02   \n",
       "4  2022-01-22 14:34:57.474          6 Ave & W 34 St          6364.10   \n",
       "\n",
       "              end_station_name end_station_id  start_lat  start_lng  \\\n",
       "0  Mt Morris Park W & W 120 St        7685.14  40.802117 -73.968181   \n",
       "1      Boerum Pl\\t& Pacific St        4488.09  40.673746 -73.985649   \n",
       "2              5 Ave & E 29 St        6248.06  40.761227 -73.960940   \n",
       "3              5 Ave & E 29 St        6248.06  40.783964 -73.947167   \n",
       "4              5 Ave & E 29 St        6248.06  40.749640 -73.988050   \n",
       "\n",
       "     end_lat    end_lng member_casual       date  avgTemp _merge  \n",
       "0  40.804038 -73.945925        member 2022-01-21     -6.0   both  \n",
       "1  40.688489 -73.991160        member 2022-01-10      1.6   both  \n",
       "2  40.745168 -73.986831        member 2022-01-26     -2.3   both  \n",
       "3  40.745168 -73.986831        member 2022-01-03      1.4   both  \n",
       "4  40.745168 -73.986831        member 2022-01-22     -5.9   both  "
      ]
     },
     "execution_count": 43,
     "metadata": {},
     "output_type": "execute_result"
    }
   ],
   "source": [
    "df_merged.head()"
   ]
  },
  {
   "cell_type": "code",
   "execution_count": 44,
   "id": "05f8148c-cb69-4092-a9bf-e5768620d348",
   "metadata": {},
   "outputs": [
    {
     "data": {
      "text/plain": [
       "_merge\n",
       "both          29838166\n",
       "left_only          640\n",
       "right_only           0\n",
       "Name: count, dtype: int64"
      ]
     },
     "execution_count": 44,
     "metadata": {},
     "output_type": "execute_result"
    }
   ],
   "source": [
    "df_merged['_merge'].value_counts(dropna = False)"
   ]
  },
  {
   "cell_type": "code",
   "execution_count": 45,
   "id": "0ab9f7ef-d752-4039-ad95-e4874e400a42",
   "metadata": {},
   "outputs": [],
   "source": [
    "df_merged.to_csv('ny_data.csv')"
   ]
  },
  {
   "cell_type": "code",
   "execution_count": 46,
   "id": "81fe517c-9691-4463-a6f8-55e4afbc86ee",
   "metadata": {},
   "outputs": [
    {
     "data": {
      "text/plain": [
       "(29838806, 14)"
      ]
     },
     "execution_count": 46,
     "metadata": {},
     "output_type": "execute_result"
    }
   ],
   "source": [
    "df.shape"
   ]
  },
  {
   "cell_type": "code",
   "execution_count": null,
   "id": "ac251b60-0dce-42ac-b986-7c72ef9ef9e8",
   "metadata": {},
   "outputs": [],
   "source": []
  }
 ],
 "metadata": {
  "kernelspec": {
   "display_name": "Python (venv_citi)",
   "language": "python",
   "name": "venv_citi"
  },
  "language_info": {
   "codemirror_mode": {
    "name": "ipython",
    "version": 3
   },
   "file_extension": ".py",
   "mimetype": "text/x-python",
   "name": "python",
   "nbconvert_exporter": "python",
   "pygments_lexer": "ipython3",
   "version": "3.13.2"
  }
 },
 "nbformat": 4,
 "nbformat_minor": 5
}
