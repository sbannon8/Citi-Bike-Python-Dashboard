


import pandas as pd
import os
from keplergl import KeplerGl
from pyproj import CRS
import numpy as np
from matplotlib import pyplot as plt


df = pd.read_csv('chicago_data.csv', index_col = 0)





# Create a value column and group by start and end station 

df['value'] = 1
df_group = df.groupby(['from_station_name', 'to_station_name'])['value'].count().reset_index()


df_group


print(df_group['value'].sum())
print(df.shape)


df_group['value'].describe()





df_group['value'].hist(bins = 100)
plt.show()


b_plot = df_group.boxplot(column = 'value') 
b_plot.plot()


df_group['value'].sort_index().value_counts()


df_group.to_csv('df_groupby_final.csv')


df_group.head()


df_group.rename(columns = {'from_station_name':'start_station_name','to_station_name' : 'end_station_name',
                          'value': 'trips'}, inplace = True)








# Load location data

df_stations = pd.read_csv("Divvy_Locations.csv", index_col = 0)

# Source: https://data.cityofchicago.org/Transportation/Divvy-Bicycle-Stations/bbyy-e7gq


df_stations.head()


df_stations['start_station_name'] = df_stations['Station Name']


df_stations.head()


df_stations.rename(columns = {'Station Name': 'end_station_name'}, inplace = True)


df_stations.reset_index(inplace = True)


df_stations = df_stations[['end_station_name', 'start_station_name', 'Latitude', 'Longitude']]


df_stations





df_m = df_group.merge(df_stations, how = 'outer', on = "start_station_name", indicator = 'merge_flag')


df_m['merge_flag'].value_counts(dropna = False)


df_m = df_m[df_m['merge_flag'] =='both']


df_m.shape


df_m.head()


df_m.drop(columns = {'end_station_name_y'}, inplace = True)


df_m.rename(columns = {'end_station_name_x' : 'end_station_name'}, inplace = True)





df_final = df_m.merge(df_stations, how = 'outer', on = "end_station_name", indicator = 'merge_flag_2')


df_final['merge_flag_2'].value_counts(dropna = False)


df_final.head()


df_final = df_final[df_final['merge_flag_2'] =='both']


df_final.drop(columns = {'start_station_name_y', 'merge_flag', 'merge_flag_2'}, inplace = True)


df_final.rename(columns = {'start_station_name_x' : 'start_station_name'}, inplace = True)


df_final.head()


import gc # this is garbage collector - speeds up performance
gc.collect()


df_final.head()


df_final.rename(columns = {'Latitude_x' : 'start_lat', 'Longitude_x' : 'start_lon', 
       'Latitude_y' : 'end_lat', 'Longitude_y' : 'end_lon',}, inplace = True)





df_final.to_csv('df_final_locations_for_map.csv')


# Create KeplerGl instance

m = KeplerGl(height = 700, data={"data_1": df_final})
m


config = m.config


config


import json
with open("config.json", "w") as outfile:
    json.dump(config, outfile)


m.save_to_html(file_name = 'Divvy Bike Trips Aggregated.html', read_only = False, config = config)
