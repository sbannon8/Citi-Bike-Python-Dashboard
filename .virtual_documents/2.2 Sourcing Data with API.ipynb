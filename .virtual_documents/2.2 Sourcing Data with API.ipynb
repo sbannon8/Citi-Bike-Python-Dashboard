


import pandas as pd
import numpy as np
import os
import requests
import json
from datetime import datetime








# create a list with all files in the folder using a list comprehension
folderpath = r"Data" 
filepath = [os.path.join(folderpath, name) for name in os.listdir(folderpath)]


# import and merge the 36(!) datasets into 1
df = pd.concat(
    (pd.read_csv(f, low_memory=False) for f in filepath),
    ignore_index=True
)


df.dtypes


df.head(3)


df.tail(3)








# define your NOAA token
Token = 'eXraitIZjoujfReLRjoaFTCXDcudehmv'





r = requests.get('https://www.ncdc.noaa.gov/cdo-web/api/v2/data?datasetid=GHCND&datatypeid=TAVG&limit=1000&stationid=GHCND:USW00014732&startdate=2022-01-01&enddate=2022-12-31', headers={'token':Token})





# load the api response as a json
d = json.loads(r.text) 





# secure all items in the response that correspond to TAVG
avg_temps = [item for item in d['results'] if item['datatype']=='TAVG']

# get only the date field from all average temperature readings
dates_temp = [item['date'] for item in avg_temps]

# get the temperature from all average temperature readings
temps = [item['value'] for item in avg_temps]


# put the results in a dataframe
df_temp = pd.DataFrame()


# convert the date from dates_temp to a format where only the date is visible
# i.e. remove the time (hrs, mins, secs) component
df_temp['date'] = [datetime.strptime(d, "%Y-%m-%dT%H:%M:%S") for d in dates_temp]

# convert temperature from tenths of celsius to normal celsius
df_temp['avgTemp'] = [float(v)/10.0 for v in temps]


df_temp.tail(3)


df_temp.head(3)


# convert the started_at column to datetime format
df['started_at'] = pd.to_datetime(df['started_at'], format="%Y-%m-%d %H:%M:%S.%f")


# split the date from the time
df['date'] = pd.to_datetime(df['started_at'], format='%Y-%m-%d').dt.date


df['date'] = pd.to_datetime(df['date'])


%%time
# merge the bike data with the weather data
df_merged = df.merge(df_temp, how = 'left', on = 'date', indicator = True)


df_merged.head()


df_merged['_merge'].value_counts(dropna = False)


df_merged.dtypes


df_merged = df_merged.astype({
    'ride_id': str,
    'rideable_type': str,
    'start_station_name': str,
    'start_station_id': str,
    'end_station_name': str,
    'end_station_id': str,
})


df_merged['ended_at'] = pd.to_datetime(df_merged['ended_at'], errors='coerce')


df_merged.dtypes


# remove the merge indicator column
df_merged.drop(columns = ['_merge'], inplace=True)


mixed_cols = [
    col for col in df_merged.columns 
    if df_merged[col].map(type).nunique() > 1
]


mixed_cols


df_merged.head(3)


df_merged.to_csv('ny_data.csv')


df.shape






