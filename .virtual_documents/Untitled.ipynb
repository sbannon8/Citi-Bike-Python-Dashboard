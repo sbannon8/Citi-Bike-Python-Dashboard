


import pandas as pd
import numpy as np
import os
import requests
import json
from datetime import datetime





# create a list with all files in the folder using a list comprehension
folderpath = r"Data" 
filepath = [os.path.join(folderpath, name) for name in os.listdir(folderpath)]



