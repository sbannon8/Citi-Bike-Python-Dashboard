


import pandas as pd
from matplotlib import pyplot as plt
import numpy as np
from datetime import datetime as dt
import seaborn as sns








# list cols to use
use_cols = ['ride_id', 'start_station_name', 'date', 'avgTemp', 'rideable_type', 'member_casual', 'started_at', 'ended_at']

# import data
df = pd.read_csv('ny_data.csv',
usecols=use_cols, # import only specified columns
parse_dates=['started_at', 'ended_at', 'date'], # set these col as datetime dtype
low_memory=False)


df = df[(df['date'] >= '2022-01-01') & (df['date'] <= '2022-12-31')]








df['rideable_type'].value_counts().plot(kind = 'bar')





sns.countplot(data = df, x = 'rideable_type')
plt.title("Ride types count")
plt.show()








# group by start station name and count the occururences for each
df_t = df.groupby('start_station_name').size().reset_index(name='count')
# create list with only the top 20 from above
top20 = df_t.nlargest(20, 'count')
top20


# create bar chart of top 20
sns.barplot(data = top20, x = 'count', y = 'start_station_name', hue ='start_station_name', palette=("Blues_r"), legend=False)
plt.title("Most frequent start stations")
plt.show() 








# first create new df that groups data by day for the daily ride count & avg temp
daily_df = df.groupby('date').agg({
    'ride_id':'count', # the daily ride count
    'avgTemp':'mean' #the average daily temperature
}).reset_index()


daily_df.head(3)


fig,ax = plt.subplots(figsize=(10,5)) # set size

# 1st x-axis: DAILY RIDES
sns.lineplot(data=daily_df['ride_id'], color="b") # set data & color
ax.set_xlabel("Year 2022", fontsize=14) # set x-axis label
ax.set_ylabel("Bike rides daily", color = "navy", fontsize = 14) # set y-axis label

# 2nd x-axis: AVG TEMP
ax2 = ax.twinx() # create dual axis using x-axis
sns.lineplot(data = daily_df['avgTemp'], color="r", ax=ax2) # set data & color
ax2.set_ylabel("Average temperatures", color="red", fontsize=14) # set x_axis label

plt.title("Temperature and trips in 2022", color="red", fontsize=14) # set title
plt.show()








# create new column that stores the trip duration
df['trip_duration_min'] = (df['ended_at'] - df['started_at']).dt.total_seconds() / 60


df.head(3)


# create box plot showing the trip duration by member status
colors= {'member':'blue', 'casual':'cyan'}
sns.boxplot(
    data=df,
    x='member_casual',
    y='trip_duration_min',
    hue='member_casual',
    palette=colors,
    legend=False
)


# show number of trips over 1 day
over24hrs_count = df[df['trip_duration_min'] > 1440].shape[0]
print(over24hrs_count)


# store trips over 1 day into new df
over24hrs_trips = df[df['trip_duration_min'] > 1440]
over24hrs_trips.head()


df['ride_id'].nunique()


39772 / 29838166








# store trips UNDER 1 day into new df
trips_under24hrs = df[df['trip_duration_min'] <= 1440]


# create box plot showing the trip duration by member status for trips UNDER 24 hrs
colors= {'member':'blue', 'casual':'cyan'}
sns.boxplot(
    data=trips_under24hrs,
    x='member_casual',
    y='trip_duration_min',
    hue='member_casual',
    palette=colors,
    legend=False
)



