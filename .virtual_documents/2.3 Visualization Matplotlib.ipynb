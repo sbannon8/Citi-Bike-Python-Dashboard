


import pandas as pd
import matplotlib.pyplot as plt
import numpy as np





# list cols to use
use_cols = ['ride_id', 'started_at', 'ended_at', 'start_station_name', 'end_station_name', 'member_casual', 'date', 'avgTemp']

# import data
df = pd.read_csv('ny_data.csv',
usecols=use_cols, # import only specified columns
parse_dates=['started_at', 'ended_at', 'date'], # set these col as datetime dtype
low_memory=False)


df.head()


df.dtypes








# create new df groups by date and shows the ride count & avg temp per day
daily_df = df.groupby('date').agg({
    'ride_id':'count', # the daily ride count
    'avgTemp':'mean' #the average daily temperature
}).reset_index()


daily_df.head()


daily_df['avgTemp'].value_counts(dropna= False)





fig, ax1 = plt.subplots(figsize=(14,6))

# set 1st y-axis: number of trips
ax1.plot(daily_df['date'], daily_df['ride_id'], color='blue')
ax1.set_ylabel('Number of Trips', color='blue')

# set 2nd y-axis: average temperature 
ax2 = ax1.twinx() # create 2nd y-axis that share the same x-axis as ax1
ax2.plot(daily_df['date'], daily_df['avgTemp'], color='red')
ax2.set_ylabel('Average Temperature', color='red')

plt.title('Daily Bike Trips and Temperature')
plt.show()





# create new df that filters for only data during the year 2022
mask = (daily_df['date'] >= '2022-01-01') & (daily_df['date'] <= '2022-12-31')
filtered_df = daily_df[mask]


# create chart using new filtered df

fig, ax1 = plt.subplots(figsize=(14,6))

ax1.plot(filtered_df['date'], filtered_df['ride_id'], color='blue')
ax1.set_ylabel('Number of Trips', color='blue')

ax2 = ax1.twinx()
ax2.plot(filtered_df['date'], filtered_df['avgTemp'], color='red')
ax2.set_ylabel('Average Temperature', color='red')

plt.title('Daily Bike Trips and Temperature (2022)')
plt.show()







